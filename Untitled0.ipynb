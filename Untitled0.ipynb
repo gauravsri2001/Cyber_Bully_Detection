{
  "nbformat": 4,
  "nbformat_minor": 0,
  "metadata": {
    "colab": {
      "name": "Untitled0.ipynb",
      "provenance": [],
      "include_colab_link": true
    },
    "kernelspec": {
      "display_name": "Python 3",
      "name": "python3"
    },
    "language_info": {
      "name": "python"
    },
    "accelerator": "GPU"
  },
  "cells": [
    {
      "cell_type": "markdown",
      "metadata": {
        "id": "view-in-github",
        "colab_type": "text"
      },
      "source": [
        "<a href=\"https://colab.research.google.com/github/abhinav1312/ProjectReview1/blob/main/Untitled0.ipynb\" target=\"_parent\"><img src=\"https://colab.research.google.com/assets/colab-badge.svg\" alt=\"Open In Colab\"/></a>"
      ]
    },
    {
      "cell_type": "markdown",
      "metadata": {
        "id": "Jl7bBYqsRUyf"
      },
      "source": [
        "# **Importing modules**"
      ]
    },
    {
      "cell_type": "code",
      "metadata": {
        "id": "0hBrP8pj6KQo"
      },
      "source": [
        "\n",
        "!pip install -U -q PyDrive\n",
        "from pydrive.auth import GoogleAuth\n",
        "from pydrive.drive import GoogleDrive\n",
        "from google.colab import auth\n",
        "from oauth2client.client import GoogleCredentials\n",
        "import pandas as pd\n",
        "import string\n",
        "import sklearn\n",
        "import re\n",
        "auth.authenticate_user()\n",
        "gauth=GoogleAuth()\n",
        "gauth.credentials=GoogleCredentials.get_application_default()\n",
        "drive=GoogleDrive(gauth)\n",
        "\n",
        "\n"
      ],
      "execution_count": 1,
      "outputs": []
    },
    {
      "cell_type": "markdown",
      "metadata": {
        "id": "V2YTi3pGRbf5"
      },
      "source": [
        "# **importing dataset from google drive in colab**\n",
        "\n"
      ]
    },
    {
      "cell_type": "code",
      "metadata": {
        "id": "U70BvAwfpGKw",
        "outputId": "b6d995d9-c572-40c1-f438-4c4d91163a09",
        "colab": {
          "base_uri": "https://localhost:8080/",
          "height": 182
        }
      },
      "source": [
        "downloaded=drive.CreateFile({'id' :'1FQeZ9lMwE2lehXi84M5sps9b2OGGKQH5'})\n",
        "downloaded.GetContentFile('dataset.csv') \n"
      ],
      "execution_count": 3,
      "outputs": [
        {
          "output_type": "error",
          "ename": "AttributeError",
          "evalue": "ignored",
          "traceback": [
            "\u001b[0;31m---------------------------------------------------------------------------\u001b[0m",
            "\u001b[0;31mAttributeError\u001b[0m                            Traceback (most recent call last)",
            "\u001b[0;32m<ipython-input-3-5ddac662c477>\u001b[0m in \u001b[0;36m<module>\u001b[0;34m()\u001b[0m\n\u001b[0;32m----> 1\u001b[0;31m \u001b[0mdownloaded\u001b[0m\u001b[0;34m=\u001b[0m\u001b[0mdrive\u001b[0m\u001b[0;34m.\u001b[0m\u001b[0mCreateFile\u001b[0m\u001b[0;34m(\u001b[0m\u001b[0;34m{\u001b[0m\u001b[0;34m'id'\u001b[0m \u001b[0;34m:\u001b[0m\u001b[0;34m'1FQeZ9lMwE2lehXi84M5sps9b2OGGKQH5'\u001b[0m\u001b[0;34m}\u001b[0m\u001b[0;34m)\u001b[0m\u001b[0;34m\u001b[0m\u001b[0;34m\u001b[0m\u001b[0m\n\u001b[0m\u001b[1;32m      2\u001b[0m \u001b[0mdownloaded\u001b[0m\u001b[0;34m.\u001b[0m\u001b[0mGetContentFile\u001b[0m\u001b[0;34m(\u001b[0m\u001b[0;34m'dataset.csv'\u001b[0m\u001b[0;34m)\u001b[0m\u001b[0;34m\u001b[0m\u001b[0;34m\u001b[0m\u001b[0m\n",
            "\u001b[0;31mAttributeError\u001b[0m: module 'google.colab.drive' has no attribute 'CreateFile'"
          ]
        }
      ]
    },
    {
      "cell_type": "code",
      "source": [
        "from google.colab import drive\n",
        "drive.mount('/content/drive')"
      ],
      "metadata": {
        "id": "4mozQAca49sU",
        "outputId": "6c7b254c-a0a8-4905-c3ec-0e875cdf60e4",
        "colab": {
          "base_uri": "https://localhost:8080/"
        }
      },
      "execution_count": 2,
      "outputs": [
        {
          "output_type": "stream",
          "name": "stdout",
          "text": [
            "Mounted at /content/drive\n"
          ]
        }
      ]
    },
    {
      "cell_type": "markdown",
      "metadata": {
        "id": "OvcM0dbbSCr0"
      },
      "source": [
        "# Reading **dataset**"
      ]
    },
    {
      "cell_type": "code",
      "metadata": {
        "colab": {
          "base_uri": "https://localhost:8080/",
          "height": 206
        },
        "id": "d8oZsh1BqU5z",
        "outputId": "d3d45fdb-a7df-4e84-f653-131dfefe3cdc"
      },
      "source": [
        "\n",
        "data=pd.read_csv('dataset.csv')\n",
        "#pd.set_option('display.max_colwidth',300)\n",
        "#data.columns\n",
        "data.head()"
      ],
      "execution_count": 4,
      "outputs": [
        {
          "output_type": "execute_result",
          "data": {
            "text/html": [
              "<div>\n",
              "<style scoped>\n",
              "    .dataframe tbody tr th:only-of-type {\n",
              "        vertical-align: middle;\n",
              "    }\n",
              "\n",
              "    .dataframe tbody tr th {\n",
              "        vertical-align: top;\n",
              "    }\n",
              "\n",
              "    .dataframe thead th {\n",
              "        text-align: right;\n",
              "    }\n",
              "</style>\n",
              "<table border=\"1\" class=\"dataframe\">\n",
              "  <thead>\n",
              "    <tr style=\"text-align: right;\">\n",
              "      <th></th>\n",
              "      <th>index</th>\n",
              "      <th>oh_label</th>\n",
              "      <th>Date</th>\n",
              "      <th>Text</th>\n",
              "    </tr>\n",
              "  </thead>\n",
              "  <tbody>\n",
              "    <tr>\n",
              "      <th>0</th>\n",
              "      <td>0</td>\n",
              "      <td>1</td>\n",
              "      <td>20120618192155Z</td>\n",
              "      <td>\"You fuck your dad.\"</td>\n",
              "    </tr>\n",
              "    <tr>\n",
              "      <th>1</th>\n",
              "      <td>1</td>\n",
              "      <td>0</td>\n",
              "      <td>20120528192215Z</td>\n",
              "      <td>\"i really don't understand your point.\\xa0 It ...</td>\n",
              "    </tr>\n",
              "    <tr>\n",
              "      <th>2</th>\n",
              "      <td>2</td>\n",
              "      <td>0</td>\n",
              "      <td>NaN</td>\n",
              "      <td>\"A\\\\xc2\\\\xa0majority of Canadians can and has ...</td>\n",
              "    </tr>\n",
              "    <tr>\n",
              "      <th>3</th>\n",
              "      <td>3</td>\n",
              "      <td>0</td>\n",
              "      <td>NaN</td>\n",
              "      <td>\"listen if you dont wanna get married to a man...</td>\n",
              "    </tr>\n",
              "    <tr>\n",
              "      <th>4</th>\n",
              "      <td>4</td>\n",
              "      <td>0</td>\n",
              "      <td>20120619094753Z</td>\n",
              "      <td>\"C\\xe1c b\\u1ea1n xu\\u1ed1ng \\u0111\\u01b0\\u1edd...</td>\n",
              "    </tr>\n",
              "  </tbody>\n",
              "</table>\n",
              "</div>"
            ],
            "text/plain": [
              "   index  ...                                               Text\n",
              "0      0  ...                               \"You fuck your dad.\"\n",
              "1      1  ...  \"i really don't understand your point.\\xa0 It ...\n",
              "2      2  ...  \"A\\\\xc2\\\\xa0majority of Canadians can and has ...\n",
              "3      3  ...  \"listen if you dont wanna get married to a man...\n",
              "4      4  ...  \"C\\xe1c b\\u1ea1n xu\\u1ed1ng \\u0111\\u01b0\\u1edd...\n",
              "\n",
              "[5 rows x 4 columns]"
            ]
          },
          "metadata": {},
          "execution_count": 4
        }
      ]
    },
    {
      "cell_type": "markdown",
      "metadata": {
        "id": "KyVvQhSKFP0S"
      },
      "source": [
        "# **Dataset cleaning**"
      ]
    },
    {
      "cell_type": "code",
      "metadata": {
        "colab": {
          "base_uri": "https://localhost:8080/",
          "height": 206
        },
        "id": "Z_yvza8mr0N-",
        "outputId": "d3cf9a6a-fc50-461c-8e1c-cf3ad21a11e8"
      },
      "source": [
        "\n",
        "data.drop(['Date'], axis=1 ,inplace=True) #drop date column\n",
        "def clean_txt(txt):\n",
        "  txt=\"\".join([c for c in txt if c not in string.punctuation])\n",
        "  txt=re.sub(r'#',\"\",txt) #Removed ‘#’ symbol\n",
        "  txt=re.sub(r\"RT[\\s]+\",\"\",txt)  #Removing RT\n",
        "  txt=re.sub(r\"https?:\\/\\/\\s+\",\"\",txt) #Removing the hyperlink\n",
        "  return txt\n",
        "data['Text']=data['Text'].apply(lambda x: clean_txt(x))\n",
        "data.head()"
      ],
      "execution_count": 5,
      "outputs": [
        {
          "output_type": "execute_result",
          "data": {
            "text/html": [
              "<div>\n",
              "<style scoped>\n",
              "    .dataframe tbody tr th:only-of-type {\n",
              "        vertical-align: middle;\n",
              "    }\n",
              "\n",
              "    .dataframe tbody tr th {\n",
              "        vertical-align: top;\n",
              "    }\n",
              "\n",
              "    .dataframe thead th {\n",
              "        text-align: right;\n",
              "    }\n",
              "</style>\n",
              "<table border=\"1\" class=\"dataframe\">\n",
              "  <thead>\n",
              "    <tr style=\"text-align: right;\">\n",
              "      <th></th>\n",
              "      <th>index</th>\n",
              "      <th>oh_label</th>\n",
              "      <th>Text</th>\n",
              "    </tr>\n",
              "  </thead>\n",
              "  <tbody>\n",
              "    <tr>\n",
              "      <th>0</th>\n",
              "      <td>0</td>\n",
              "      <td>1</td>\n",
              "      <td>You fuck your dad</td>\n",
              "    </tr>\n",
              "    <tr>\n",
              "      <th>1</th>\n",
              "      <td>1</td>\n",
              "      <td>0</td>\n",
              "      <td>i really dont understand your pointxa0 It seem...</td>\n",
              "    </tr>\n",
              "    <tr>\n",
              "      <th>2</th>\n",
              "      <td>2</td>\n",
              "      <td>0</td>\n",
              "      <td>Axc2xa0majority of Canadians can and has been ...</td>\n",
              "    </tr>\n",
              "    <tr>\n",
              "      <th>3</th>\n",
              "      <td>3</td>\n",
              "      <td>0</td>\n",
              "      <td>listen if you dont wanna get married to a man ...</td>\n",
              "    </tr>\n",
              "    <tr>\n",
              "      <th>4</th>\n",
              "      <td>4</td>\n",
              "      <td>0</td>\n",
              "      <td>Cxe1c bu1ea1n xuu1ed1ng u0111u01b0u1eddng biu1...</td>\n",
              "    </tr>\n",
              "  </tbody>\n",
              "</table>\n",
              "</div>"
            ],
            "text/plain": [
              "   index  oh_label                                               Text\n",
              "0      0         1                                  You fuck your dad\n",
              "1      1         0  i really dont understand your pointxa0 It seem...\n",
              "2      2         0  Axc2xa0majority of Canadians can and has been ...\n",
              "3      3         0  listen if you dont wanna get married to a man ...\n",
              "4      4         0  Cxe1c bu1ea1n xuu1ed1ng u0111u01b0u1eddng biu1..."
            ]
          },
          "metadata": {},
          "execution_count": 5
        }
      ]
    },
    {
      "cell_type": "markdown",
      "metadata": {
        "id": "zMRdqhHwQf_l"
      },
      "source": [
        "# **Vectorizing the dataset**"
      ]
    },
    {
      "cell_type": "code",
      "metadata": {
        "id": "Jl9_DG1EDGJn"
      },
      "source": [
        "from sklearn.feature_extraction.text import CountVectorizer\n",
        "from sklearn.model_selection import train_test_split\n"
      ],
      "execution_count": 6,
      "outputs": []
    },
    {
      "cell_type": "markdown",
      "metadata": {
        "id": "c91GeQ10OvXJ"
      },
      "source": [
        "# **Labelling columns**"
      ]
    },
    {
      "cell_type": "code",
      "metadata": {
        "id": "wc2b9S-wzByK",
        "colab": {
          "base_uri": "https://localhost:8080/"
        },
        "outputId": "e16f4651-1848-44ed-9544-63e274801db4"
      },
      "source": [
        "\n",
        "X=data['Text']\n",
        "y=data['oh_label'] \n",
        "data.isnull().sum()\n",
        "X.shape\n"
      ],
      "execution_count": 7,
      "outputs": [
        {
          "output_type": "execute_result",
          "data": {
            "text/plain": [
              "(8799,)"
            ]
          },
          "metadata": {},
          "execution_count": 7
        }
      ]
    },
    {
      "cell_type": "markdown",
      "metadata": {
        "id": "S6aMBPGiO8BV"
      },
      "source": [
        "# **Vectorizing and creating sparse matrix of dataset**"
      ]
    },
    {
      "cell_type": "code",
      "metadata": {
        "id": "374TF8ZoLVUO"
      },
      "source": [
        "cv=CountVectorizer()\n",
        "X=cv.fit_transform(X) #creating sparse matrix"
      ],
      "execution_count": 8,
      "outputs": []
    },
    {
      "cell_type": "markdown",
      "metadata": {
        "id": "EnB2INQcPFVa"
      },
      "source": [
        "# **Splitting dataset into train-test modules**"
      ]
    },
    {
      "cell_type": "code",
      "metadata": {
        "id": "hrt5aXU3LYgt"
      },
      "source": [
        "\n",
        "x_train, x_test,y_train, y_test=train_test_split(X,y, test_size=0.2, random_state=42)"
      ],
      "execution_count": 9,
      "outputs": []
    },
    {
      "cell_type": "markdown",
      "metadata": {
        "id": "y_XAPZRwPNb4"
      },
      "source": [
        "# **Importing Naive Bayes**"
      ]
    },
    {
      "cell_type": "code",
      "metadata": {
        "colab": {
          "base_uri": "https://localhost:8080/"
        },
        "id": "xLObzC9KL5bh",
        "outputId": "e7a2a37e-958d-4c6c-aee1-9ffad8d58ba8"
      },
      "source": [
        "from sklearn.naive_bayes import MultinomialNB\n",
        "\n",
        "model=MultinomialNB()\n",
        "\n",
        "model.fit(x_train, y_train)\n",
        "model.score(x_test, y_test) #tells accuracy of our algorithm"
      ],
      "execution_count": 10,
      "outputs": [
        {
          "output_type": "execute_result",
          "data": {
            "text/plain": [
              "0.7534090909090909"
            ]
          },
          "metadata": {},
          "execution_count": 10
        }
      ]
    },
    {
      "cell_type": "markdown",
      "metadata": {
        "id": "K_wamuGlPZVM"
      },
      "source": [
        "# **Taking input from user and applying naive bayes algorithm**"
      ]
    },
    {
      "cell_type": "code",
      "metadata": {
        "colab": {
          "base_uri": "https://localhost:8080/"
        },
        "id": "3nRmAg1WMKcO",
        "outputId": "f58cc9fb-bff2-4f3c-c21a-c6ee22d753f5"
      },
      "source": [
        "\n",
        "msg=\"You are such a retarded person .\"\n",
        "data = [msg]\n",
        "vect = cv.transform(data).toarray()\n",
        "my_prediction = model.predict(vect)\n",
        "if my_prediction[0]==1:\n",
        "  print(\"Offensive\")\n",
        "else:\n",
        "  print(\"Not Offensive\")"
      ],
      "execution_count": 11,
      "outputs": [
        {
          "output_type": "stream",
          "name": "stdout",
          "text": [
            "Offensive\n"
          ]
        }
      ]
    },
    {
      "cell_type": "markdown",
      "source": [
        "# Other Algo\n",
        "\n"
      ],
      "metadata": {
        "id": "w6YGAx2x5nX-"
      }
    },
    {
      "cell_type": "code",
      "source": [
        "#Logistic regression \n",
        "from sklearn.linear_model import LogisticRegression\n",
        "log=LogisticRegression(random_state=0,solver='lbfgs', max_iter=10000)\n",
        "log.fit(x_train, y_train,)\n",
        "\n",
        "\n",
        "#Decison tree\n",
        "from sklearn.tree import DecisionTreeClassifier\n",
        "tree=DecisionTreeClassifier(criterion=\"entropy\",random_state=0)\n",
        "tree.fit(x_train, y_train)\n",
        "    \n",
        "#Random Forest\n",
        "from sklearn.ensemble import RandomForestClassifier\n",
        "forest=RandomForestClassifier(n_estimators=10,criterion=\"entropy\",random_state=0)\n",
        "forest.fit(x_train, y_train)\n",
        "\n",
        "\n",
        "#SVM\n",
        "from sklearn.svm import SVC \n",
        "svc  =SVC()\n",
        "svc.fit(x_train, y_train)\n",
        "\n",
        "#Prediction using XGBoost\n",
        "from xgboost import XGBClassifier\n",
        "xgb = XGBClassifier()\n",
        "xgb.fit(x_train, y_train)"
      ],
      "metadata": {
        "id": "r7QzyeDz5jAq",
        "outputId": "5d2ceefa-bd09-4a1f-f3f1-98ae0cf51635",
        "colab": {
          "base_uri": "https://localhost:8080/"
        }
      },
      "execution_count": 15,
      "outputs": [
        {
          "output_type": "execute_result",
          "data": {
            "text/plain": [
              "XGBClassifier()"
            ]
          },
          "metadata": {},
          "execution_count": 15
        }
      ]
    },
    {
      "cell_type": "markdown",
      "source": [
        "reason why I added  solver and max iter param in Log regression model https://stackoverflow.com/questions/62658215/convergencewarning-lbfgs-failed-to-converge-status-1-stop-total-no-of-iter\n",
        "Not adding those to params will lead to a warning and a failed result."
      ],
      "metadata": {
        "id": "14EUH8xt7SeS"
      }
    },
    {
      "cell_type": "code",
      "source": [
        "from sklearn.metrics import accuracy_score\n",
        "print(\" accuracy report Naive Bayes\",accuracy_score(y_test, model.predict(x_test)))\n",
        "print(\" accuracy report log\",accuracy_score(y_test, log.predict(x_test)))\n",
        "print(\"\\n accuracy report tree\",accuracy_score(y_test, tree.predict(x_test)))\n",
        "print(\"\\n accuracy report forest\",accuracy_score(y_test, forest.predict(x_test)))\n",
        "print(\"\\n accuracy report SVC\",accuracy_score(y_test, svc.predict(x_test)))\n",
        "print(\"\\n accuracy report XGB\",accuracy_score(y_test, xgb.predict(x_test)))"
      ],
      "metadata": {
        "id": "RQnOFx166J5S",
        "outputId": "920f2327-cf87-435c-b897-8650dacc23c4",
        "colab": {
          "base_uri": "https://localhost:8080/"
        }
      },
      "execution_count": 16,
      "outputs": [
        {
          "output_type": "stream",
          "name": "stdout",
          "text": [
            " accuracy report Naive Bayes 0.7534090909090909\n",
            " accuracy report log 0.8011363636363636\n",
            "\n",
            " accuracy report tree 0.7238636363636364\n",
            "\n",
            " accuracy report forest 0.75\n",
            "\n",
            " accuracy report SVC 0.7744318181818182\n",
            "\n",
            " accuracy report XGB 0.7744318181818182\n"
          ]
        }
      ]
    },
    {
      "cell_type": "markdown",
      "source": [
        "# Finding Classification report of the best model\n"
      ],
      "metadata": {
        "id": "XUM7qCkw8nlZ"
      }
    },
    {
      "cell_type": "code",
      "source": [
        "from sklearn.metrics import classification_report\n",
        "print(\"Classification report of Logistic Regression  :-\\n\")\n",
        "log_rep=classification_report(y_test, log.predict(x_test))\n",
        "print(log_rep)"
      ],
      "metadata": {
        "id": "F2rDX1OC8k4M",
        "outputId": "702df154-5e84-40a6-9ff2-cd0ee312f773",
        "colab": {
          "base_uri": "https://localhost:8080/"
        }
      },
      "execution_count": 18,
      "outputs": [
        {
          "output_type": "stream",
          "name": "stdout",
          "text": [
            "Classification report of Logistic Regression  :-\n",
            "\n",
            "              precision    recall  f1-score   support\n",
            "\n",
            "           0       0.82      0.90      0.86      1178\n",
            "           1       0.75      0.60      0.67       582\n",
            "\n",
            "    accuracy                           0.80      1760\n",
            "   macro avg       0.78      0.75      0.76      1760\n",
            "weighted avg       0.80      0.80      0.79      1760\n",
            "\n"
          ]
        }
      ]
    }
  ]
}